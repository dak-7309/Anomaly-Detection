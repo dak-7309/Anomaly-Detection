{
 "cells": [
  {
   "cell_type": "code",
   "execution_count": 1,
   "metadata": {
    "colab": {
     "base_uri": "https://localhost:8080/",
     "height": 72
    },
    "colab_type": "code",
    "id": "gfdq8bSO7s0a",
    "outputId": "038c2d3b-2a64-4f6f-edfd-a6d7b17bf193"
   },
   "outputs": [],
   "source": [
    "import torchvision\n",
    "import torch\n",
    "from torch import nn\n",
    "import torch.nn.functional as F\n",
    "import torchvision.models as models\n",
    "import torch.optim as optim\n",
    "import copy\n",
    "import os\n",
    "from tqdm.autonotebook import tqdm\n",
    "import matplotlib.pyplot as plt\n",
    "from torch.utils.data import Dataset\n",
    "from torchvision import transforms\n",
    "from torch.utils.data import DataLoader\n",
    "import numpy as np\n",
    "from torch.utils.data.sampler import SubsetRandomSampler\n",
    "import cv2\n",
    "import sys"
   ]
  },
  {
   "cell_type": "code",
   "execution_count": 2,
   "metadata": {
    "colab": {},
    "colab_type": "code",
    "id": "__TVncCdN1jN"
   },
   "outputs": [],
   "source": [
    "#Label file:\n",
    "data_path = '/home/iiitd/crime'\n",
    "classes = os.listdir(data_path)\n",
    "decoder = {}\n",
    "for i in range(len(classes)):\n",
    "    decoder[classes[i]] = i\n",
    "encoder = {}\n",
    "for i in range(len(classes)):\n",
    "    encoder[i] = classes[i]"
   ]
  },
  {
   "cell_type": "code",
   "execution_count": 3,
   "metadata": {
    "colab": {},
    "colab_type": "code",
    "id": "TiuCb0FPCn87"
   },
   "outputs": [],
   "source": [
    "id = list()\n",
    "path = '/home/iiitd/crime'\n",
    "for i in os.listdir(path):\n",
    "  p1 = os.path.join(path,i)\n",
    "  for j in os.listdir(p1):\n",
    "    p2 = os.path.join(p1,j)\n",
    "    id.append((i,p2))"
   ]
  },
  {
   "cell_type": "code",
   "execution_count": 4,
   "metadata": {
    "colab": {},
    "colab_type": "code",
    "id": "v5iUVP4p6VFn"
   },
   "outputs": [],
   "source": [
    "class video_dataset(Dataset):\n",
    "    def __init__(self,frame_list,sequence_length = 16,transform = None):\n",
    "        self.frame_list = frame_list\n",
    "        self.transform = transform\n",
    "        self.sequence_length = sequence_length\n",
    "    def __len__(self):\n",
    "        return len(self.frame_list)\n",
    "    def __getitem__(self,idx):\n",
    "        label,path = self.frame_list[idx]\n",
    "        img = cv2.imread(path)\n",
    "        seq_img = list()\n",
    "        for i in range(16):\n",
    "          img1 = img[:,128*i:128*(i+1),:]\n",
    "          if(self.transform):\n",
    "            img1 = self.transform(img1)\n",
    "          seq_img.append(img1)\n",
    "        seq_image = torch.stack(seq_img)\n",
    "        seq_image = seq_image.reshape(3,16,im_size,im_size)\n",
    "        return seq_image,decoder[label]"
   ]
  },
  {
   "cell_type": "code",
   "execution_count": 5,
   "metadata": {
    "colab": {},
    "colab_type": "code",
    "id": "msB4umEmPxj6"
   },
   "outputs": [],
   "source": [
    "im_size = 128\n",
    "mean = [0.4889, 0.4887, 0.4891]\n",
    "std = [0.2074, 0.2074, 0.2074]\n",
    "\n",
    "\n",
    "train_transforms = transforms.Compose([\n",
    "                                        transforms.ToPILImage(),\n",
    "                                        transforms.Resize((im_size,im_size)),\n",
    "                                        transforms.RandomHorizontalFlip(),\n",
    "                                        transforms.RandomRotation(degrees=10),\n",
    "                                        transforms.ToTensor(),\n",
    "                                        transforms.Normalize(mean,std)])\n",
    "\n",
    "train_data = video_dataset(id,sequence_length = 16,transform = train_transforms)\n",
    "train_loader = DataLoader(train_data,batch_size = 8,num_workers = 4 ,shuffle = True)\n",
    "dataloaders = {'train':train_loader}"
   ]
  },
  {
   "cell_type": "code",
   "execution_count": 6,
   "metadata": {
    "colab": {},
    "colab_type": "code",
    "id": "NqtR9UDF72pX"
   },
   "outputs": [],
   "source": [
    "from model import resnet50\n",
    "model = resnet50(class_num=8)"
   ]
  },
  {
   "cell_type": "code",
   "execution_count": 7,
   "metadata": {
    "colab": {},
    "colab_type": "code",
    "id": "QqyU-0k67-N_"
   },
   "outputs": [],
   "source": [
    "from clr import *\n",
    "device = 'cuda'\n",
    "cls_criterion = nn.CrossEntropyLoss()\n",
    "optimizer = torch.optim.SGD(model.parameters(), lr=1e-3, momentum = 0.9,weight_decay = 1e-4)\n",
    "num_epochs = 20\n",
    "onecyc = OneCycle(len(train_loader)*num_epochs,1e-3)"
   ]
  },
  {
   "cell_type": "code",
   "execution_count": null,
   "metadata": {
    "colab": {
     "base_uri": "https://localhost:8080/",
     "height": 1000
    },
    "colab_type": "code",
    "id": "ybCCnE-T8GzU",
    "outputId": "c61a164b-7d91-4455-ee0a-f92374f9aaca"
   },
   "outputs": [
    {
     "name": "stdout",
     "output_type": "stream",
     "text": [
      "\n",
      "--- Epoch 0 ---\n",
      "\n",
      "--- Phase train ---\n",
      "[Epoch 0/20] [Batch 112/688] [Loss: 2.185052 (2.246415), Acc: 25.00% (20.91%)]"
     ]
    }
   ],
   "source": [
    "os.makedirs('/home/iiitd/weights_crime',exist_ok = True)\n",
    "from torch.autograd import Variable\n",
    "iteration = 0\n",
    "acc_all = list()\n",
    "loss_all = list()\n",
    "    \n",
    "for epoch in range(num_epochs):\n",
    "    print('')\n",
    "    print(f\"--- Epoch {epoch} ---\")\n",
    "    phase1 = dataloaders.keys()\n",
    "    for phase in phase1:\n",
    "        print('')\n",
    "        print(f\"--- Phase {phase} ---\")\n",
    "        epoch_metrics = {\"loss\": [], \"acc\": []}\n",
    "        for batch_i, (X, y) in enumerate(dataloaders[phase]):\n",
    "            #iteration = iteration+1\n",
    "            image_sequences = Variable(X, requires_grad=True)\n",
    "            labels = Variable(y, requires_grad=False)\n",
    "            optimizer.zero_grad()\n",
    "            #model.lstm.reset_hidden_state()\n",
    "            predictions = model(image_sequences)\n",
    "            loss = cls_criterion(predictions, labels)\n",
    "            acc = 100 * (predictions.detach().argmax(1) == labels).cpu().numpy().mean()\n",
    "            loss.backward()\n",
    "            optimizer.step()\n",
    "            epoch_metrics[\"loss\"].append(loss.item())\n",
    "            epoch_metrics[\"acc\"].append(acc)\n",
    "            if(phase=='train'):\n",
    "                lr,mom = onecyc.calc()\n",
    "                update_lr(optimizer, lr)\n",
    "                update_mom(optimizer, mom)\n",
    "            batches_done = epoch * len(dataloaders[phase]) + batch_i\n",
    "            batches_left = num_epochs * len(dataloaders[phase]) - batches_done\n",
    "            sys.stdout.write(\n",
    "                    \"\\r[Epoch %d/%d] [Batch %d/%d] [Loss: %f (%f), Acc: %.2f%% (%.2f%%)]\"\n",
    "                    % (\n",
    "                        epoch,\n",
    "                        num_epochs,\n",
    "                        batch_i,\n",
    "                        len(dataloaders[phase]),\n",
    "                        loss.item(),\n",
    "                        np.mean(epoch_metrics[\"loss\"]),\n",
    "                        acc,\n",
    "                        np.mean(epoch_metrics[\"acc\"]),\n",
    "                    )\n",
    "                )\n",
    "\n",
    "                # Empty cache\n",
    "            if torch.cuda.is_available():\n",
    "                torch.cuda.empty_cache()\n",
    "            \n",
    "        print('')\n",
    "        print('{} , acc: {}'.format(phase,np.mean(epoch_metrics[\"acc\"])))\n",
    "        torch.save(model.state_dict(),'/home/iiitd/weights_crime/c3d_{}.h5'.format(epoch))\n",
    "        if(phase=='train'):\n",
    "          acc_all.append(np.mean(epoch_metrics[\"acc\"]))\n",
    "          loss_all.append(np.mean(epoch_metrics[\"loss\"]))"
   ]
  },
  {
   "cell_type": "code",
   "execution_count": null,
   "metadata": {
    "colab": {},
    "colab_type": "code",
    "id": "sH7XMOAjV7DH"
   },
   "outputs": [],
   "source": [
    "def error_plot(loss):\n",
    "    plt.figure(figsize=(10,5))\n",
    "    plt.plot(loss)\n",
    "    plt.title(\"Training loss plot\")\n",
    "    plt.xlabel(\"epochs\")\n",
    "    plt.ylabel(\"Loss\")\n",
    "    plt.show()\n",
    "def acc_plot(acc):\n",
    "    plt.figure(figsize=(10,5))\n",
    "    plt.plot(acc)\n",
    "    plt.title(\"Training accuracy plot\")\n",
    "    plt.xlabel(\"epochs\")\n",
    "    plt.ylabel(\"accuracy\")\n",
    "    plt.show()"
   ]
  },
  {
   "cell_type": "code",
   "execution_count": null,
   "metadata": {
    "colab": {
     "base_uri": "https://localhost:8080/",
     "height": 369
    },
    "colab_type": "code",
    "id": "QoXZ08iHXbD2",
    "outputId": "e725be2b-ade8-4722-9806-10b6d026a33d"
   },
   "outputs": [],
   "source": [
    "loss_all"
   ]
  },
  {
   "cell_type": "code",
   "execution_count": null,
   "metadata": {
    "colab": {
     "base_uri": "https://localhost:8080/",
     "height": 350
    },
    "colab_type": "code",
    "id": "YtVNjFyeWVrd",
    "outputId": "94439267-4308-404b-d552-529f6afe290b"
   },
   "outputs": [],
   "source": [
    "error_plot(loss_all)"
   ]
  },
  {
   "cell_type": "code",
   "execution_count": null,
   "metadata": {
    "colab": {
     "base_uri": "https://localhost:8080/",
     "height": 350
    },
    "colab_type": "code",
    "id": "dybBWSyyWZfY",
    "outputId": "831e8b30-67d0-494a-ca6c-666f63637f7f"
   },
   "outputs": [],
   "source": [
    "acc_plot(acc_all)"
   ]
  }
 ],
 "metadata": {
  "accelerator": "GPU",
  "colab": {
   "collapsed_sections": [],
   "name": "video_dataset_creation.ipynb",
   "provenance": [],
   "version": "0.3.2"
  },
  "kernelspec": {
   "display_name": "Python 3",
   "language": "python",
   "name": "python3"
  },
  "language_info": {
   "codemirror_mode": {
    "name": "ipython",
    "version": 3
   },
   "file_extension": ".py",
   "mimetype": "text/x-python",
   "name": "python",
   "nbconvert_exporter": "python",
   "pygments_lexer": "ipython3",
   "version": "3.6.9"
  }
 },
 "nbformat": 4,
 "nbformat_minor": 1
}
